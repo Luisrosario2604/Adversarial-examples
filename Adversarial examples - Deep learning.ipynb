{
  "cells": [
    {
      "cell_type": "markdown",
      "metadata": {
        "id": "zwHG95Y7kfTr"
      },
      "source": [
        "# Adversarial-examples\n",
        "\n",
        "## **Introducción**\n",
        "\n",
        "Los ejemplos adversarios (Adversarial Examples - AE) en redes neuronales han puesto recientemente en duda la robustez de dichas funciones, al ser capaces de cambiar la predicción de una red sin más que perturbar mínimamente los datos de entrada.\n",
        "\n",
        "\n",
        "El modelo de ataque se describe como la adición de una pertubación:\n",
        "$$\n",
        "x_{adv} = x + \\delta.    % \\text{ donde } \\delta =  \\epsilon \\cdot sign \\left( \\frac{\\partial \\mathcal{L}(y_{target},\\hat{y})}{\\partial x} \\right).\n",
        "$$\n",
        "El ***problema de optimización*** a resolver es por tanto:\n",
        "$$\n",
        "\\begin{equation}\n",
        "\\text{P1}:=\\left\\{\n",
        "\\begin{aligned}\n",
        "\\delta^* = \\mbox{arg}\\max_{\\delta \\in \\Delta} \\mathcal{L}(y,f(x  + \\delta, \\theta)), \\\\ ~\\text{donde}~\\Delta = \\lbrace \\delta: ||\\delta||_{\\infty} \\leq \\epsilon \\rbrace\n",
        "\\end{aligned} \\right.\n",
        "\\end{equation}\n",
        "$$\n",
        "\n",
        "Es decir, buscamos la perturbación $\\delta$ de tal forma que la predicción hecha por la red sea distinta a la original: \n",
        "$$\n",
        "\\hat{y} = f(x, \\theta) \\neq \\hat{y}_{adv} = f(x_{adv}, \\theta)\n",
        "$$\n",
        "\n",
        "# **Fast Gradient Sign Method - FGSM**\n",
        "\n",
        "En la práctica [Adversarial Examples](https://github.com/rollervan/FunMat/blob/main/Codes/Pr%C3%A1ctica_Adversarial_Examples.ipynb) vimos una posible resolución de problema anterior $\\text{P1}$, usando el método FGSM ([Explaining and Harnessing\n",
        "Adversarial Examples](https://arxiv.org/pdf/1412.6572.pdf)). Vimos que este método puede usarse para crear ejemplos adversarios dirigidos y no dirigidos:\n",
        "\n",
        "1. forzando a que la función de pérdidas minimize una etiqueta distinta (si hablamos de clasificación), a esto se le conoce como *targeted AE*\n",
        "$$\n",
        "\\text{Targeted: }x_{adv} = x - \\epsilon \\cdot sign \\left( \\frac{\\partial \\mathcal{L}(y_{target},\\hat{y})}{\\partial x} \\right)\n",
        "$$\n",
        "\n",
        "2. forzando a que la función de pérdidas aumente, *non-targeted AE*. \n",
        "\n",
        "$$\n",
        "\\text{Non-Targeted: } x_{adv} = x + \\epsilon \\cdot sign \\left( \\frac{\\partial \\mathcal{L}(y,\\hat{y})}{\\partial x} \\right)\n",
        "$$\n",
        "\n",
        "Los ejemplos adversarios se construyen con una sola llamada al gradiente (fast) y tomando el signo de éste (sign); de ahí su nombre.\n",
        "\n",
        "% Dicho de otra manera, buscamos una perturbación en cada píxel que no sea mayor que $\\epsilon$, de manera que $x + \\delta$, maximice la pérdida, y, en consecuencia, cambie la predicción del modelo. Este modelo de ataque se conoce como Projected Gradient Descend (PGD), nombre no muy acertado ya que el PGD es ya un método conocido de optimización.\n",
        "\n",
        "# **Projected Gradient Descent - PGD**\n",
        "\n",
        "En esta práctica nos centraremos en un ataque no dirigido (*Non-targeted attack*). Para ello, analizamos el problema $\\text{P1}$ un poco más en detalle. Se trata de encontar la perturbación $\\delta$ que maximiza la pérdida:\n",
        "$$\n",
        "    \\begin{equation}\n",
        "        \\delta^{*} = \\mbox{arg}\\max_{\\delta \\in \\Delta} \\mathcal{L}(y, f(\\theta,x+\\delta))\n",
        "    \\end{equation}\n",
        "$$\n",
        "en un conjunto restringido de posibles perturbaciones $\\Delta$:\n",
        "\\begin{equation}\n",
        "    \\Delta := \\lbrace \\delta: ||\\delta||_{\\infty} \\leq \\epsilon \\rbrace.\n",
        "\\end{equation}\n",
        "\n",
        "Es decir, se busca $\\delta^*$ que maximiza la pérdida $\\mathcal{L}$ con la restricción de que $\\delta \\in \\Delta$ tenga una norma infinito menor que cierto valor $\\epsilon$.\n",
        "\n",
        "Intuitivamente, esto significa que cada píxel de la imagen puede ser modificado hasta un cierto $\\epsilon$. Por ejemplo, si el valor de un píxel es 0.5, y $\\epsilon=0.1$, el rango de posibles valores de $\\delta$ sería $[-0.1, 0.1]$ y por tanto, el rango de posibles valores del píxel sería $[0.4, 0.6]$.\n",
        "\n",
        "Para la resolución del problema $\\text{P1}$ se pueden usar distintos métodos de optimización. Entre los más usados está el Projected Gradient Descent (PGD), que es un método de optimización en sí, no un tipo de ataque, aunque al ataque se le conoce con el mismo nombre.\n",
        "\n",
        "\n",
        "# **En esta práctica se pide:**\n",
        "\n",
        "Como ingenierx de visión, se te encomienda implementar un ataque no dirigido para evaluar la robustez de un sistema de clasificación que consiste en una red neuronal. Para ello, se te indica que existe un método que se llama PGD para encontrar una perturbación óptima $\\ell_\\infty$. Esta es, a priori, toda la información que tienes para resolver lo que se te pide, es decir, nunca has usado dicho método.\n",
        "\n",
        "Para ello deberás:\n"
      ]
    },
    {
      "cell_type": "markdown",
      "metadata": {
        "id": "yNNMflXvwSjx"
      },
      "source": [
        "**E1:**\n",
        "\n",
        "* Encontrar información (paper) de referencia en el que se propone el uso de este método. Justificar el paper que has seleccionado (relevancia, código, citas...). ¿Por qué usar este paper y no otro?"
      ]
    },
    {
      "cell_type": "markdown",
      "metadata": {
        "id": "BZqrq5OKxSqX"
      },
      "source": [
        "**Respuesta 1:** \n",
        "\n",
        "Dos papers me han ayudado a resolver este problema.\n",
        "\n",
        "Primer paper : [Robustness May Be at Odds with Accuracy](https://arxiv.org/pdf/1805.12152.pdf), lo he elegido porque es bastante reciente (versión 5 del 9 septiembre 2019) y sobre todo los autores son del MIT. También usa la misma base de datos que hemos visto en clase (CIFAR-10). Se entiende muy bien la idea \"general\" de los ataques adversarios.\n",
        "\n",
        "Segundo paper : [Towards Deep Learning Models Resistant to Adversarial\n",
        "Attacks](https://arxiv.org/pdf/1706.06083.pdf), este paper también ha sido propuesto por personas del MIT (2 autores en commun con el primer paper). Este paper es más detallado comparado con el primero, habla mucho mas de FGSM y sobre todo de PGD.\n",
        "\n",
        "Auque no sea un paper tambien me ha ayudado mucho esta página (sobre todo la parte PGD) [Adversarial examples, solving the inner maximization](https://adversarial-ml-tutorial.org/adversarial_examples/). Todo esta muy bien explicado y además con código."
      ]
    },
    {
      "cell_type": "markdown",
      "metadata": {
        "id": "J-78RpGgxfRH"
      },
      "source": [
        "**E2:**\n",
        "\n",
        "*  Explicar cómo se resuelve con un PGD el problema $\\text{P1}$. Puedes usar un pseudo-código comentando qué significa cada paso."
      ]
    },
    {
      "cell_type": "markdown",
      "metadata": {
        "id": "cZ8e4J3fyLkL"
      },
      "source": [
        "**Respuesta 2**:\n",
        "\n",
        "El ataque \"Projected Gradient Descent\" (PGD) es un ataque de caja blanca, lo que significa que el atacante tiene acceso a los gradientes del modelo, es decir, el atacante tiene una copia de los pesos de su modelo. Este modelo de amenaza da al atacante mucho más poder que los ataques de caja negra, ya que puede elaborar específicamente su ataque para engañar a su modelo sin tener que depender de los ataques de transferencia que a menudo resultan en perturbaciones visibles para el ojo humano.\n",
        "\n",
        "El PGD trata de encontrar la perturbación que maximiza la pérdida de un modelo en una entrada particular mientras se mantiene el tamaño de la perturbación más pequeño que una cantidad especificada referida como epsilon.\n",
        "\n",
        "El algoritmo de PGD se puede resumir con los 5 pasos siguientes, aunque el atacante es libre de aplicar cualquier mejora de optimización, como el impulso, Adam, múltiples reinicios, etc :\n",
        "\n",
        "\n",
        "\n",
        "1.   (Opcional) Añadir una perturbación aleatoria en la imagen\n",
        "2.   Obtener el gradiente de la imagen, teniendo en cuenta la etiqueta de la imagen y la que se tiene que maximizar o minimizar (dependiendo si hacemos un ataque dirigido o no)\n",
        "3.   Para cada píxel, dar un paso de tamaño α de signo de su gradiente (se obtiene la perturbación)\n",
        "4.   Sumar (o restar) la perturbatión (dependiendo si hacemos un ataque dirigido o no)\n",
        "5.   Aplicar la restricción de $\\epsilon$ (cada píxel de la imagen puede ser modificado hasta un cierto $\\epsilon$ )\n",
        "6.   Repetir las etapas 2-3-4-5 n veces (número de iteraciones).\n",
        "\n"
      ]
    },
    {
      "cell_type": "markdown",
      "metadata": {
        "id": "qLiSW417yYT_"
      },
      "source": [
        "**E3:**\n",
        "\n",
        "* Implementar en TensorFlow un ejemplo de ataque PGD $\\ell_{\\inf}$ con $100$ iteraciones y $\\epsilon=0.05$.\n",
        "\n",
        "**Respuesta 3:** Código"
      ]
    },
    {
      "cell_type": "markdown",
      "source": [
        "### 3.0) Imports"
      ],
      "metadata": {
        "id": "wxNUJPCDy_Bq"
      }
    },
    {
      "cell_type": "code",
      "source": [
        "import tensorflow as tf\n",
        "import matplotlib.pyplot as plt\n",
        "from tensorflow.keras import regularizers"
      ],
      "metadata": {
        "id": "lVdnjTQ6y-fd"
      },
      "execution_count": 1,
      "outputs": []
    },
    {
      "cell_type": "markdown",
      "source": [
        "### 3.1) Selección de datos"
      ],
      "metadata": {
        "id": "yD_i8EgvzHZR"
      }
    },
    {
      "cell_type": "code",
      "source": [
        "cifar10 = tf.keras.datasets.cifar10\n",
        "(train_images, train_labels), (test_images, test_labels) = cifar10.load_data()\n",
        "\n",
        "train_images = train_images / 255.0\n",
        "test_images = test_images / 255.0\n",
        "\n",
        "num_classes = 10"
      ],
      "metadata": {
        "colab": {
          "base_uri": "https://localhost:8080/"
        },
        "id": "vzH6FjxnzH94",
        "outputId": "4e455c06-daa3-4142-8998-1ee2d7151d52"
      },
      "execution_count": 2,
      "outputs": [
        {
          "output_type": "stream",
          "name": "stdout",
          "text": [
            "Downloading data from https://www.cs.toronto.edu/~kriz/cifar-10-python.tar.gz\n",
            "170498071/170498071 [==============================] - 3s 0us/step\n"
          ]
        }
      ]
    },
    {
      "cell_type": "markdown",
      "metadata": {
        "id": "Bta2Q1McytZo"
      },
      "source": [
        "### 3.2) Red que servira para probar el ataque"
      ]
    },
    {
      "cell_type": "code",
      "execution_count": 3,
      "metadata": {
        "colab": {
          "base_uri": "https://localhost:8080/"
        },
        "id": "c35eaRrlytZp",
        "outputId": "e09c548c-1372-479e-e02d-303ad71bb2fb"
      },
      "outputs": [
        {
          "output_type": "stream",
          "name": "stdout",
          "text": [
            "Epoch 1/10\n",
            "313/313 [==============================] - 42s 126ms/step - loss: 1.7083 - accuracy: 0.4096 - val_loss: 1.4793 - val_accuracy: 0.4955\n",
            "Epoch 2/10\n",
            "313/313 [==============================] - 32s 102ms/step - loss: 1.3641 - accuracy: 0.5375 - val_loss: 1.2874 - val_accuracy: 0.5692\n",
            "Epoch 3/10\n",
            "313/313 [==============================] - 32s 102ms/step - loss: 1.2285 - accuracy: 0.5901 - val_loss: 1.2145 - val_accuracy: 0.6006\n",
            "Epoch 4/10\n",
            "313/313 [==============================] - 34s 109ms/step - loss: 1.1312 - accuracy: 0.6320 - val_loss: 1.1482 - val_accuracy: 0.6357\n",
            "Epoch 5/10\n",
            "313/313 [==============================] - 32s 103ms/step - loss: 1.0474 - accuracy: 0.6651 - val_loss: 1.1779 - val_accuracy: 0.6120\n",
            "Epoch 6/10\n",
            "313/313 [==============================] - 32s 103ms/step - loss: 0.9741 - accuracy: 0.6927 - val_loss: 1.0658 - val_accuracy: 0.6630\n",
            "Epoch 7/10\n",
            "313/313 [==============================] - 32s 102ms/step - loss: 0.9229 - accuracy: 0.7135 - val_loss: 1.0670 - val_accuracy: 0.6645\n",
            "Epoch 8/10\n",
            "313/313 [==============================] - 32s 103ms/step - loss: 0.8713 - accuracy: 0.7355 - val_loss: 1.0335 - val_accuracy: 0.6843\n",
            "Epoch 9/10\n",
            "313/313 [==============================] - 32s 102ms/step - loss: 0.8130 - accuracy: 0.7586 - val_loss: 1.0141 - val_accuracy: 0.6983\n",
            "Epoch 10/10\n",
            "313/313 [==============================] - 32s 102ms/step - loss: 0.7745 - accuracy: 0.7743 - val_loss: 1.0029 - val_accuracy: 0.7034\n",
            "313/313 [==============================] - 4s 11ms/step - loss: 1.0136 - accuracy: 0.6983\n",
            "Accuracy :  0.6983000040054321\n"
          ]
        }
      ],
      "source": [
        "model = tf.keras.Sequential([\n",
        "                              tf.keras.layers.Conv2D(64, kernel_size=5, strides=(2, 2), activation=tf.nn.relu),\n",
        "                              tf.keras.layers.MaxPool2D(pool_size=(2, 2)),\n",
        "                              tf.keras.layers.Conv2D(128, kernel_size=3, strides=(1, 1), activation=tf.nn.relu),\n",
        "                              tf.keras.layers.Flatten(),\n",
        "                              tf.keras.layers.Dense(256, activation=tf.nn.relu, kernel_regularizer=regularizers.l1_l2(l1=1e-5, l2=1e-4)),\n",
        "                              tf.keras.layers.Dense(num_classes, name='logits', kernel_regularizer=regularizers.l1_l2(l1=1e-5, l2=1e-4)),\n",
        " ])\n",
        "\n",
        "model.compile(optimizer=tf.optimizers.Adam(learning_rate=1e-3),\n",
        "               loss=tf.keras.losses.SparseCategoricalCrossentropy(from_logits=True),\n",
        "               metrics=['accuracy'])\n",
        " \n",
        "model.fit(train_images, train_labels, epochs=10, validation_split=0.2, batch_size=128)\n",
        "test_loss, test_acc = model.evaluate(test_images, test_labels)\n",
        "\n",
        "print('Accuracy : ', test_acc)"
      ]
    },
    {
      "cell_type": "markdown",
      "source": [
        "### 3.4) Seleccionamos una imagen del conjunto de test"
      ],
      "metadata": {
        "id": "9NznkE7Xzh73"
      }
    },
    {
      "cell_type": "code",
      "source": [
        "x = test_images[0:1,...]\n",
        "y = test_labels[0:1,...]\n",
        "x.shape\n",
        "plt.imshow(x[0,...])\n",
        "plt.title('Label: '+str(y))"
      ],
      "metadata": {
        "colab": {
          "base_uri": "https://localhost:8080/",
          "height": 298
        },
        "id": "0v6nCu-QznB6",
        "outputId": "fa18bed1-7bb9-4f7e-f100-87cd905f059a"
      },
      "execution_count": 4,
      "outputs": [
        {
          "output_type": "execute_result",
          "data": {
            "text/plain": [
              "Text(0.5, 1.0, 'Label: [[3]]')"
            ]
          },
          "metadata": {},
          "execution_count": 4
        },
        {
          "output_type": "display_data",
          "data": {
            "text/plain": [
              "<Figure size 432x288 with 1 Axes>"
            ],
            "image/png": "[encoded data removed]"
          },
          "metadata": {
            "needs_background": "light"
          }
        }
      ]
    },
    {
      "cell_type": "markdown",
      "source": [
        "###  3.5) Ataque PGD $\\ell_{\\inf}$ con $100$ iteraciones y $\\epsilon=0.05$. (No dirigido)"
      ],
      "metadata": {
        "id": "WvSVBi4yztPP"
      }
    },
    {
      "cell_type": "code",
      "source": [
        "ep = 0.05\n",
        "alpha = 1e-2\n",
        "iter = 100\n",
        "noise = True\n",
        "\n",
        "x = tf.convert_to_tensor(x)\n",
        "y = tf.convert_to_tensor(y)\n",
        "\n",
        "x = tf.cast(x, dtype=tf.float32)\n",
        "y = tf.cast(y, dtype=tf.float32)\n",
        "\n",
        "if noise:\n",
        "  noise = tf.random.uniform(shape=tf.shape(x), maxval=ep, minval=-ep, dtype=tf.float32)\n",
        "  x_adv = tf.add(x, noise)\n",
        "else:\n",
        "  x_adv = x\n",
        "\n",
        "for i in range(iter):\n",
        "  with tf.GradientTape() as g:\n",
        "      g.watch(x_adv)\n",
        "      y_pred = model(x_adv)\n",
        "      loss = tf.keras.losses.sparse_categorical_crossentropy(y_true=y, y_pred=y_pred, from_logits=True)\n",
        "    \n",
        "  grad = g.gradient(loss, x_adv)\n",
        "  pert = tf.sign(grad)\n",
        "  pert *= alpha\n",
        "  #x_adv = x_adv + ep*pert\n",
        "  x_adv = tf.clip_by_value(x_adv + pert, x-ep, x+ep) # Only the values below x-ep or above x+ep are changed"
      ],
      "metadata": {
        "id": "678j5nNaz3JK"
      },
      "execution_count": 5,
      "outputs": []
    },
    {
      "cell_type": "markdown",
      "source": [
        "### 3.6) Resultados"
      ],
      "metadata": {
        "id": "UOPa4u6vz9Hh"
      }
    },
    {
      "cell_type": "code",
      "source": [
        "fig, axs = plt.subplots(1,4,figsize=(20,20))\n",
        "\n",
        "pred_x = tf.argmax(model(x),-1).numpy()\n",
        "axs[0].imshow(x[0,...].numpy())\n",
        "axs[0].set_title('Default - Pred: '+str(pred_x))\n",
        "\n",
        "pred_x_adv = tf.argmax(model(x_adv),-1).numpy()\n",
        "axs[1].imshow(x_adv[0,...].numpy())\n",
        "axs[1].set_title('Attacked - Pred: '+str(pred_x_adv))\n",
        "\n",
        "grad_scaled = grad[0,...].numpy() / grad[0,...].numpy().max()\n",
        "axs[2].imshow(grad_scaled)\n",
        "axs[2].set_title('Grad')\n",
        "\n",
        "axs[3].imshow(pert[0,...].numpy()/alpha)\n",
        "axs[3].set_title('Pert')"
      ],
      "metadata": {
        "colab": {
          "base_uri": "https://localhost:8080/",
          "height": 376
        },
        "id": "Fb04hu9jz_iS",
        "outputId": "bbd46694-e222-4040-f483-b2167c4e7ee2"
      },
      "execution_count": 6,
      "outputs": [
        {
          "output_type": "stream",
          "name": "stderr",
          "text": [
            "WARNING:matplotlib.image:Clipping input data to the valid range for imshow with RGB data ([0..1] for floats or [0..255] for integers).\n",
            "WARNING:matplotlib.image:Clipping input data to the valid range for imshow with RGB data ([0..1] for floats or [0..255] for integers).\n",
            "WARNING:matplotlib.image:Clipping input data to the valid range for imshow with RGB data ([0..1] for floats or [0..255] for integers).\n"
          ]
        },
        {
          "output_type": "execute_result",
          "data": {
            "text/plain": [
              "Text(0.5, 1.0, 'Pert')"
            ]
          },
          "metadata": {},
          "execution_count": 6
        },
        {
          "output_type": "display_data",
          "data": {
            "text/plain": [
              "<Figure size 1440x1440 with 4 Axes>"
            ],
            "image/png": "[encoded data removed]"
          },
          "metadata": {
            "needs_background": "light"
          }
        }
      ]
    },
    {
      "cell_type": "markdown",
      "source": [
        "### 3.7) \"Bonus\" Mismo ataque PGD pero dirigido"
      ],
      "metadata": {
        "id": "LpAw2Lj17bgU"
      }
    },
    {
      "cell_type": "code",
      "source": [
        "ep = 0.05\n",
        "alpha = 1e-2\n",
        "iter = 100\n",
        "noise = True\n",
        "class_dirig = 9\n",
        "\n",
        "x = tf.convert_to_tensor(x)\n",
        "y = tf.convert_to_tensor(y)\n",
        "\n",
        "x = tf.cast(x, dtype=tf.float32)\n",
        "y = tf.cast(y, dtype=tf.float32)\n",
        "\n",
        "if noise:\n",
        "  noise = tf.random.uniform(shape=tf.shape(x), maxval=ep, minval=-ep, dtype=tf.float32)\n",
        "  x_adv = tf.add(x, noise)\n",
        "else:\n",
        "  x_adv = x\n",
        "\n",
        "for i in range(iter):\n",
        "  with tf.GradientTape() as g:\n",
        "      g.watch(x_adv)\n",
        "      y_pred = model(x_adv)\n",
        "      loss = tf.keras.losses.sparse_categorical_crossentropy(y_true=class_dirig, y_pred=y_pred, from_logits=True)\n",
        "    \n",
        "  grad = g.gradient(loss, x_adv)\n",
        "  pert = tf.sign(grad)\n",
        "  pert *= alpha\n",
        "  #x_adv = x_adv + ep*pert\n",
        "  x_adv = tf.clip_by_value(x_adv - pert, x-ep, x+ep) # Only the values below x-ep or above x+ep are changed"
      ],
      "metadata": {
        "id": "4RvBvHyv7obM"
      },
      "execution_count": 7,
      "outputs": []
    },
    {
      "cell_type": "code",
      "source": [
        "fig, axs = plt.subplots(1,4,figsize=(20,20))\n",
        "\n",
        "pred_x = tf.argmax(model(x),-1).numpy()\n",
        "axs[0].imshow(x[0,...].numpy())\n",
        "axs[0].set_title('Default - Pred: '+str(pred_x))\n",
        "\n",
        "pred_x_adv = tf.argmax(model(x_adv),-1).numpy()\n",
        "axs[1].imshow(x_adv[0,...].numpy())\n",
        "axs[1].set_title('Attacked - Pred: '+str(pred_x_adv))\n",
        "\n",
        "grad_scaled = grad[0,...].numpy() / grad[0,...].numpy().max()\n",
        "axs[2].imshow(grad_scaled)\n",
        "axs[2].set_title('Grad')\n",
        "\n",
        "axs[3].imshow(pert[0,...].numpy()/alpha)\n",
        "axs[3].set_title('Pert')"
      ],
      "metadata": {
        "colab": {
          "base_uri": "https://localhost:8080/",
          "height": 376
        },
        "id": "3MfyyX2z7oec",
        "outputId": "04bca047-e18b-44e7-afa6-d1e2a0e6fae2"
      },
      "execution_count": 8,
      "outputs": [
        {
          "output_type": "stream",
          "name": "stderr",
          "text": [
            "WARNING:matplotlib.image:Clipping input data to the valid range for imshow with RGB data ([0..1] for floats or [0..255] for integers).\n",
            "WARNING:matplotlib.image:Clipping input data to the valid range for imshow with RGB data ([0..1] for floats or [0..255] for integers).\n",
            "WARNING:matplotlib.image:Clipping input data to the valid range for imshow with RGB data ([0..1] for floats or [0..255] for integers).\n"
          ]
        },
        {
          "output_type": "execute_result",
          "data": {
            "text/plain": [
              "Text(0.5, 1.0, 'Pert')"
            ]
          },
          "metadata": {},
          "execution_count": 8
        },
        {
          "output_type": "display_data",
          "data": {
            "text/plain": [
              "<Figure size 1440x1440 with 4 Axes>"
            ],
            "image/png": "[encoded data removed]"
          },
          "metadata": {
            "needs_background": "light"
          }
        }
      ]
    },
    {
      "cell_type": "markdown",
      "metadata": {
        "id": "rm4ltYXtwLX0"
      },
      "source": [
        "**E4:** Código (para nota)\n",
        "\n",
        "* Implementar en TensorFLow un ejemplo de ataque PGD $\\ell_1$ y comparar con el anterior.\n",
        "\n",
        "\n"
      ]
    },
    {
      "cell_type": "code",
      "execution_count": null,
      "metadata": {
        "id": "dLYt05cOkUZT"
      },
      "outputs": [],
      "source": [
        "# Completar. En el ataque anterior, la restricción sobre el conjunto de perturbaciones\n",
        "# es que la norma infinito sea menor que un cierto valor epsilon. Existen otros\n",
        "# ataques en los que esta norma no es la norma infinito. Repite el proceso de\n",
        "# entender qué hay que cambiar en el código para hacer uso de la norma 1 y \n",
        "# compara/explica las diferencias con el anterior."
      ]
    },
    {
      "cell_type": "markdown",
      "source": [
        "### 4.1) Ataque PGD $\\ell_1$ con $100$ iteraciones y $\\epsilon=0.05$. (No dirigido)"
      ],
      "metadata": {
        "id": "m5H3zaAwDh8a"
      }
    },
    {
      "cell_type": "code",
      "source": [
        "ep = 0.05\n",
        "alpha = 1e-2\n",
        "iter = 100\n",
        "noise = False\n",
        "\n",
        "x = tf.convert_to_tensor(x)\n",
        "y = tf.convert_to_tensor(y)\n",
        "\n",
        "x = tf.cast(x, dtype=tf.float32)\n",
        "y = tf.cast(y, dtype=tf.float32)\n",
        "\n",
        "if noise:\n",
        "  noise = tf.random.uniform(shape=tf.shape(x), maxval=ep, minval=-ep, dtype=tf.float32)\n",
        "  x_adv = tf.add(x, noise)\n",
        "else:\n",
        "  x_adv = x\n",
        "\n",
        "for i in range(iter):\n",
        "  with tf.GradientTape() as g:\n",
        "      g.watch(x_adv)\n",
        "      y_pred = model(x_adv)\n",
        "      loss = tf.keras.losses.sparse_categorical_crossentropy(y_true=y, y_pred=y_pred, from_logits=True)\n",
        "    \n",
        "  grad = g.gradient(loss, x_adv)\n",
        "  abs = tf.math.abs(grad)\n",
        "  max_grad = tf.reduce_max(abs, [1, 2, 3], keepdims=True)\n",
        "  \n",
        "  equal_abs = tf.math.equal(abs, max_grad) # Returns the truth value of (x == y) element-wise.\n",
        "  equal_abs = tf.cast(equal_abs, dtype=tf.float32)\n",
        "  \n",
        "  added_abs = tf.math.reduce_sum(equal_abs, [1, 2, 3], keepdims=True)\n",
        "    \n",
        "  pert = tf.sign(grad)\n",
        "  #pert *= alpha\n",
        "  x_adv += pert * equal_abs / added_abs\n",
        "  x_adv = tf.clip_by_value(x_adv, x-ep, x+ep) # Only the values below x-ep or above x+ep are changed\n"
      ],
      "metadata": {
        "id": "ffzaPKUZDhc6"
      },
      "execution_count": 9,
      "outputs": []
    },
    {
      "cell_type": "markdown",
      "source": [
        "### 4.2) Resultados"
      ],
      "metadata": {
        "id": "WUx4vOgIFpMD"
      }
    },
    {
      "cell_type": "code",
      "source": [
        "fig, axs = plt.subplots(1,4,figsize=(20,20))\n",
        "\n",
        "pred_x = tf.argmax(model(x),-1).numpy()\n",
        "axs[0].imshow(x[0,...].numpy())\n",
        "axs[0].set_title('Default - Pred: '+str(pred_x))\n",
        "\n",
        "pred_x_adv = tf.argmax(model(x_adv),-1).numpy()\n",
        "axs[1].imshow(x_adv[0,...].numpy())\n",
        "axs[1].set_title('Attacked - Pred: '+str(pred_x_adv))\n",
        "\n",
        "grad_scaled = grad[0,...].numpy() / grad[0,...].numpy().max()\n",
        "axs[2].imshow(grad_scaled)\n",
        "axs[2].set_title('Grad')\n",
        "\n",
        "axs[3].imshow(pert[0,...].numpy()/alpha)\n",
        "axs[3].set_title('Pert')"
      ],
      "metadata": {
        "colab": {
          "base_uri": "https://localhost:8080/",
          "height": 359
        },
        "id": "TVELVxAlFo1M",
        "outputId": "3f12abc3-fd4c-46a0-bf9e-86ef1a9c72d9"
      },
      "execution_count": 10,
      "outputs": [
        {
          "output_type": "stream",
          "name": "stderr",
          "text": [
            "WARNING:matplotlib.image:Clipping input data to the valid range for imshow with RGB data ([0..1] for floats or [0..255] for integers).\n",
            "WARNING:matplotlib.image:Clipping input data to the valid range for imshow with RGB data ([0..1] for floats or [0..255] for integers).\n"
          ]
        },
        {
          "output_type": "execute_result",
          "data": {
            "text/plain": [
              "Text(0.5, 1.0, 'Pert')"
            ]
          },
          "metadata": {},
          "execution_count": 10
        },
        {
          "output_type": "display_data",
          "data": {
            "text/plain": [
              "<Figure size 1440x1440 with 4 Axes>"
            ],
            "image/png": "[encoded data removed]"
          },
          "metadata": {
            "needs_background": "light"
          }
        }
      ]
    },
    {
      "cell_type": "markdown",
      "source": [
        "### 4.3) Respuesta"
      ],
      "metadata": {
        "id": "WrsQqYOJLY4h"
      }
    },
    {
      "cell_type": "markdown",
      "source": [
        "#### Respuesta\n",
        "\n",
        "Se puede ver que el resultado no es bueno (el modelo sigue encontrando la buena clase). Como se puede leer en este paper : [ATTACKING THE MADRY DEFENSE MODEL WITH L1-BASED ADVERSARIAL EXAMPLES](https://openreview.net/pdf?id=Sy8WeUJPf), con un epsilon más grande la red debería equivocarse (pero la imagen resultaría ser más \"dañada\")."
      ],
      "metadata": {
        "id": "P7Rx6zhTFvDi"
      }
    },
    {
      "cell_type": "markdown",
      "source": [
        "### 4.4) Subiendo el epsilon"
      ],
      "metadata": {
        "id": "cK19kOFWLXX9"
      }
    },
    {
      "cell_type": "code",
      "source": [
        "ep = 0.4\n",
        "alpha = 1e-2\n",
        "iter = 100\n",
        "noise = True\n",
        "\n",
        "x = tf.convert_to_tensor(x)\n",
        "y = tf.convert_to_tensor(y)\n",
        "\n",
        "x = tf.cast(x, dtype=tf.float32)\n",
        "y = tf.cast(y, dtype=tf.float32)\n",
        "\n",
        "if noise:\n",
        "  noise = tf.random.uniform(shape=tf.shape(x), maxval=ep, minval=-ep, dtype=tf.float32)\n",
        "  x_adv = tf.add(x, noise)\n",
        "else:\n",
        "  x_adv = x\n",
        "\n",
        "for i in range(iter):\n",
        "  with tf.GradientTape() as g:\n",
        "      g.watch(x_adv)\n",
        "      y_pred = model(x_adv)\n",
        "      loss = tf.keras.losses.sparse_categorical_crossentropy(y_true=y, y_pred=y_pred, from_logits=True)\n",
        "    \n",
        "  grad = g.gradient(loss, x_adv)\n",
        "  abs = tf.math.abs(grad)\n",
        "  max_grad = tf.reduce_max(abs, [1, 2, 3], keepdims=True)\n",
        "  \n",
        "  equal_abs = tf.math.equal(abs, max_grad) # Returns the truth value of (x == y) element-wise.\n",
        "  equal_abs = tf.cast(equal_abs, dtype=tf.float32)\n",
        "  \n",
        "  added_abs = tf.math.reduce_sum(equal_abs, [1, 2, 3], keepdims=True)\n",
        "    \n",
        "  pert = tf.sign(grad)\n",
        "  #pert *= alpha\n",
        "  x_adv += pert * equal_abs / added_abs\n",
        "  x_adv = tf.clip_by_value(x_adv, x-ep, x+ep) # Only the values below x-ep or above x+ep are changed\n"
      ],
      "metadata": {
        "id": "_lPVxsmDLWgk"
      },
      "execution_count": 11,
      "outputs": []
    },
    {
      "cell_type": "code",
      "source": [
        "fig, axs = plt.subplots(1,4,figsize=(20,20))\n",
        "\n",
        "pred_x = tf.argmax(model(x),-1).numpy()\n",
        "axs[0].imshow(x[0,...].numpy())\n",
        "axs[0].set_title('Default - Pred: '+str(pred_x))\n",
        "\n",
        "pred_x_adv = tf.argmax(model(x_adv),-1).numpy()\n",
        "axs[1].imshow(x_adv[0,...].numpy())\n",
        "axs[1].set_title('Attacked - Pred: '+str(pred_x_adv))\n",
        "\n",
        "grad_scaled = grad[0,...].numpy() / grad[0,...].numpy().max()\n",
        "axs[2].imshow(grad_scaled)\n",
        "axs[2].set_title('Grad')\n",
        "\n",
        "axs[3].imshow(pert[0,...].numpy()/alpha)\n",
        "axs[3].set_title('Pert')"
      ],
      "metadata": {
        "colab": {
          "base_uri": "https://localhost:8080/",
          "height": 376
        },
        "id": "2Cw8sLsNLk0F",
        "outputId": "1fd5d9bb-2fdd-48c0-c053-1a13f6ea0949"
      },
      "execution_count": 12,
      "outputs": [
        {
          "output_type": "stream",
          "name": "stderr",
          "text": [
            "WARNING:matplotlib.image:Clipping input data to the valid range for imshow with RGB data ([0..1] for floats or [0..255] for integers).\n",
            "WARNING:matplotlib.image:Clipping input data to the valid range for imshow with RGB data ([0..1] for floats or [0..255] for integers).\n",
            "WARNING:matplotlib.image:Clipping input data to the valid range for imshow with RGB data ([0..1] for floats or [0..255] for integers).\n"
          ]
        },
        {
          "output_type": "execute_result",
          "data": {
            "text/plain": [
              "Text(0.5, 1.0, 'Pert')"
            ]
          },
          "metadata": {},
          "execution_count": 12
        },
        {
          "output_type": "display_data",
          "data": {
            "text/plain": [
              "<Figure size 1440x1440 with 4 Axes>"
            ],
            "image/png": "[encoded data removed]"
          },
          "metadata": {
            "needs_background": "light"
          }
        }
      ]
    }
  ],
  "metadata": {
    "colab": {
      "provenance": []
    },
    "kernelspec": {
      "display_name": "Python 3 (ipykernel)",
      "language": "python",
      "name": "python3"
    },
    "language_info": {
      "codemirror_mode": {
        "name": "ipython",
        "version": 3
      },
      "file_extension": ".py",
      "mimetype": "text/x-python",
      "name": "python",
      "nbconvert_exporter": "python",
      "pygments_lexer": "ipython3",
      "version": "3.9.2"
    }
  },
  "nbformat": 4,
  "nbformat_minor": 0
}