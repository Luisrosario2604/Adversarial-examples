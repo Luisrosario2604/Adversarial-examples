{
 "cells": [
  {
   "cell_type": "markdown",
   "metadata": {
    "id": "zwHG95Y7kfTr"
   },
   "source": [
    "# Práctica PGD 2022 : Luis ROSARIO TREMOULET\n",
    "\n",
    "## **Introducción**\n",
    "\n",
    "Los ejemplos adversarios (Adversarial Examples - AE) en redes neuronales han puesto recientemente en duda la robustez de dichas funciones, al ser capaces de cambiar la predicción de una red sin más que perturbar mínimamente los datos de entrada.\n",
    "\n",
    "\n",
    "El modelo de ataque se describe como la adición de una pertubación:\n",
    "$$\n",
    "x_{adv} = x + \\delta.    % \\text{ donde } \\delta =  \\epsilon \\cdot sign \\left( \\frac{\\partial \\mathcal{L}(y_{target},\\hat{y})}{\\partial x} \\right).\n",
    "$$\n",
    "El ***problema de optimización*** a resolver es por tanto:\n",
    "$$\n",
    "\\begin{equation}\n",
    "\\text{P1}:=\\left\\{\n",
    "\\begin{aligned}\n",
    "\\delta^* = \\mbox{arg}\\max_{\\delta \\in \\Delta} \\mathcal{L}(y,f(x  + \\delta, \\theta)), \\\\ ~\\text{donde}~\\Delta = \\lbrace \\delta: ||\\delta||_{\\infty} \\leq \\epsilon \\rbrace\n",
    "\\end{aligned} \\right.\n",
    "\\end{equation}\n",
    "$$\n",
    "\n",
    "Es decir, buscamos la perturbación $\\delta$ de tal forma que la predicción hecha por la red sea distinta a la original: \n",
    "$$\n",
    "\\hat{y} = f(x, \\theta) \\neq \\hat{y}_{adv} = f(x_{adv}, \\theta)\n",
    "$$\n",
    "\n",
    "# **Fast Gradient Sign Method - FGSM**\n",
    "\n",
    "En la práctica [Adversarial Examples](https://github.com/rollervan/FunMat/blob/main/Codes/Pr%C3%A1ctica_Adversarial_Examples.ipynb) vimos una posible resolución de problema anterior $\\text{P1}$, usando el método FGSM ([Explaining and Harnessing\n",
    "Adversarial Examples](https://arxiv.org/pdf/1412.6572.pdf)). Vimos que este método puede usarse para crear ejemplos adversarios dirigidos y no dirigidos:\n",
    "\n",
    "1. forzando a que la función de pérdidas minimize una etiqueta distinta (si hablamos de clasificación), a esto se le conoce como *targeted AE*\n",
    "$$\n",
    "\\text{Targeted: }x_{adv} = x - \\epsilon \\cdot sign \\left( \\frac{\\partial \\mathcal{L}(y_{target},\\hat{y})}{\\partial x} \\right)\n",
    "$$\n",
    "\n",
    "2. forzando a que la función de pérdidas aumente, *non-targeted AE*. \n",
    "\n",
    "$$\n",
    "\\text{Non-Targeted: } x_{adv} = x + \\epsilon \\cdot sign \\left( \\frac{\\partial \\mathcal{L}(y,\\hat{y})}{\\partial x} \\right)\n",
    "$$\n",
    "\n",
    "Los ejemplos adversarios se construyen con una sola llamada al gradiente (fast) y tomando el signo de éste (sign); de ahí su nombre.\n",
    "\n",
    "% Dicho de otra manera, buscamos una perturbación en cada píxel que no sea mayor que $\\epsilon$, de manera que $x + \\delta$, maximice la pérdida, y, en consecuencia, cambie la predicción del modelo. Este modelo de ataque se conoce como Projected Gradient Descend (PGD), nombre no muy acertado ya que el PGD es ya un método conocido de optimización.\n",
    "\n",
    "# **Projected Gradient Descent - PGD**\n",
    "\n",
    "En esta práctica nos centraremos en un ataque no dirigido (*Non-targeted attack*). Para ello, analizamos el problema $\\text{P1}$ un poco más en detalle. Se trata de encontar la perturbación $\\delta$ que maximiza la pérdida:\n",
    "$$\n",
    "    \\begin{equation}\n",
    "        \\delta^{*} = \\mbox{arg}\\max_{\\delta \\in \\Delta} \\mathcal{L}(y, f(\\theta,x+\\delta))\n",
    "    \\end{equation}\n",
    "$$\n",
    "en un conjunto restringido de posibles perturbaciones $\\Delta$:\n",
    "\\begin{equation}\n",
    "    \\Delta := \\lbrace \\delta: ||\\delta||_{\\infty} \\leq \\epsilon \\rbrace.\n",
    "\\end{equation}\n",
    "\n",
    "Es decir, se busca $\\delta^*$ que maximiza la pérdida $\\mathcal{L}$ con la restricción de que $\\delta \\in \\Delta$ tenga una norma infinito menor que cierto valor $\\epsilon$.\n",
    "\n",
    "Intuitivamente, esto significa que cada píxel de la imagen puede ser modificado hasta un cierto $\\epsilon$. Por ejemplo, si el valor de un píxel es 0.5, y $\\epsilon=0.1$, el rango de posibles valores de $\\delta$ sería $[-0.1, 0.1]$ y por tanto, el rango de posibles valores del píxel sería $[0.4, 0.6]$.\n",
    "\n",
    "Para la resolución del problema $\\text{P1}$ se pueden usar distintos métodos de optimización. Entre los más usados está el Projected Gradient Descent (PGD), que es un método de optimización en sí, no un tipo de ataque, aunque al ataque se le conoce con el mismo nombre.\n",
    "\n",
    "\n",
    "# **En esta práctica se pide:**\n",
    "\n",
    "Como ingenierx de visión, se te encomienda implementar un ataque no dirigido para evaluar la robustez de un sistema de clasificación que consiste en una red neuronal. Para ello, se te indica que existe un método que se llama PGD para encontrar una perturbación óptima $\\ell_\\infty$. Esta es, a priori, toda la información que tienes para resolver lo que se te pide, es decir, nunca has usado dicho método.\n",
    "\n",
    "Para ello deberás:\n"
   ]
  },
  {
   "cell_type": "markdown",
   "metadata": {
    "id": "yNNMflXvwSjx"
   },
   "source": [
    "**E1:**\n",
    "\n",
    "* Encontrar información (paper) de referencia en el que se propone el uso de este método. Justificar el paper que has seleccionado (relevancia, código, citas...). ¿Por qué usar este paper y no otro?"
   ]
  },
  {
   "cell_type": "markdown",
   "metadata": {
    "id": "BZqrq5OKxSqX"
   },
   "source": [
    "**Respuesta 1:** \n",
    "\n",
    "Dos papers me han ayudado a resolver este problema.\n",
    "\n",
    "Primer paper : [Robustness May Be at Odds with Accuracy](https://arxiv.org/pdf/1805.12152.pdf), lo he elegido porque es bastante reciente (versión 5 del 9 septiembre 2019) y sobre todo los autores son del MIT. También usa la misma base de datos que hemos visto en clase (CIFAR-10). Se entiende muy bien la idea \"general\" de los ataques adversarios.\n",
    "\n",
    "Segundo paper : [Towards Deep Learning Models Resistant to Adversarial\n",
    "Attacks](https://arxiv.org/pdf/1706.06083.pdf), este paper también ha sido propuesto por personas del MIT (2 autores en commun con el primer paper). Este paper es más detallado comparado con el primero, habla mucho mas de FGSM y sobre todo de PGD.\n",
    "\n",
    "Auque no sea un paper tambien me ha ayudado mucho esta página (sobre todo la parte PGD) [Adversarial examples, solving the inner maximization](https://adversarial-ml-tutorial.org/adversarial_examples/). Todo esta muy bien explicado y además con código."
   ]
  },
  {
   "cell_type": "markdown",
   "metadata": {
    "id": "J-78RpGgxfRH"
   },
   "source": [
    "**E2:**\n",
    "\n",
    "*  Explicar cómo se resuelve con un PGD el problema $\\text{P1}$. Puedes usar un pseudo-código comentando qué significa cada paso."
   ]
  },
  {
   "cell_type": "markdown",
   "metadata": {
    "id": "cZ8e4J3fyLkL"
   },
   "source": [
    "**Respuesta 2**:\n",
    "\n",
    "El ataque \"Projected Gradient Descent\" (PGD) es un ataque de caja blanca, lo que significa que el atacante tiene acceso a los gradientes del modelo, es decir, el atacante tiene una copia de los pesos de su modelo. Este modelo de amenaza da al atacante mucho más poder que los ataques de caja negra, ya que puede elaborar específicamente su ataque para engañar a su modelo sin tener que depender de los ataques de transferencia que a menudo resultan en perturbaciones visibles para el ojo humano.\n",
    "\n",
    "El PGD trata de encontrar la perturbación que maximiza la pérdida de un modelo en una entrada particular mientras se mantiene el tamaño de la perturbación más pequeño que una cantidad especificada referida como epsilon.\n",
    "\n",
    "El algoritmo de PGD se puede resumir con los 5 pasos siguientes, aunque el atacante es libre de aplicar cualquier mejora de optimización, como el impulso, Adam, múltiples reinicios, etc :\n",
    "\n",
    "\n",
    "\n",
    "1.   (Opcional) Añadir una perturbación aleatoria en la imagen\n",
    "2.   Obtener el gradiente de la imagen, teniendo en cuenta la etiqueta de la imagen y la que se tiene que maximizar o minimizar (dependiendo si hacemos un ataque dirigido o no)\n",
    "3.   Para cada píxel, dar un paso de tamaño α de signo de su gradiente (se obtiene la perturbación)\n",
    "4.   Sumar (o restar) la perturbatión (dependiendo si hacemos un ataque dirigido o no)\n",
    "5.   Aplicar la restricción de $\\epsilon$ (cada píxel de la imagen puede ser modificado hasta un cierto $\\epsilon$ )\n",
    "6.   Repetir las etapas 2-3-4-5 n veces (número de iteraciones).\n",
    "\n"
   ]
  },
  {
   "cell_type": "markdown",
   "metadata": {
    "id": "qLiSW417yYT_"
   },
   "source": [
    "**E3:**\n",
    "\n",
    "* Implementar en TensorFlow un ejemplo de ataque PGD $\\ell_{\\inf}$ con $100$ iteraciones y $\\epsilon=0.05$.\n",
    "\n",
    "**Respuesta 3:** Código"
   ]
  },
  {
   "cell_type": "code",
   "execution_count": null,
   "metadata": {
    "id": "ZfFjO5ovyitQ"
   },
   "outputs": [],
   "source": [
    "# Completar. Para ello necesitarás entrenar una red y luego implementar el ataque. \n",
    "# Puedes usar la práctica de Ejemplos Adversarios vista en clase y adaptar el\n",
    "# FGSM para usar el PGD"
   ]
  },
  {
   "cell_type": "markdown",
   "metadata": {
    "id": "wxNUJPCDy_Bq"
   },
   "source": [
    "### 3.0) Imports"
   ]
  },
  {
   "cell_type": "code",
   "execution_count": 2,
   "metadata": {
    "id": "lVdnjTQ6y-fd"
   },
   "outputs": [],
   "source": [
    "import tensorflow as tf\n",
    "import matplotlib.pyplot as plt\n",
    "from tensorflow.keras import regularizers"
   ]
  },
  {
   "cell_type": "markdown",
   "metadata": {
    "id": "yD_i8EgvzHZR"
   },
   "source": [
    "### 3.1) Selección de datos"
   ]
  },
  {
   "cell_type": "code",
   "execution_count": 3,
   "metadata": {
    "colab": {
     "base_uri": "https://localhost:8080/"
    },
    "id": "vzH6FjxnzH94",
    "outputId": "d886a499-88b4-4adb-c6ed-a74818357334"
   },
   "outputs": [
    {
     "name": "stdout",
     "output_type": "stream",
     "text": [
      "Downloading data from https://www.cs.toronto.edu/~kriz/cifar-10-python.tar.gz\n",
      "170500096/170498071 [==============================] - 2s 0us/step\n",
      "170508288/170498071 [==============================] - 2s 0us/step\n"
     ]
    }
   ],
   "source": [
    "cifar10 = tf.keras.datasets.cifar10\n",
    "(train_images, train_labels), (test_images, test_labels) = cifar10.load_data()\n",
    "\n",
    "train_images = train_images / 255.0\n",
    "test_images = test_images / 255.0\n",
    "\n",
    "num_classes = 10"
   ]
  },
  {
   "cell_type": "markdown",
   "metadata": {
    "id": "Bta2Q1McytZo"
   },
   "source": [
    "### 3.2) Red que servira para probar el ataque"
   ]
  },
  {
   "cell_type": "code",
   "execution_count": 4,
   "metadata": {
    "colab": {
     "base_uri": "https://localhost:8080/"
    },
    "id": "c35eaRrlytZp",
    "outputId": "8a65c231-2526-4c44-c614-c6784443b5b8"
   },
   "outputs": [
    {
     "name": "stdout",
     "output_type": "stream",
     "text": [
      "Epoch 1/10\n",
      "313/313 [==============================] - 50s 154ms/step - loss: 1.6930 - accuracy: 0.4155 - val_loss: 1.5024 - val_accuracy: 0.4826\n",
      "Epoch 2/10\n",
      "313/313 [==============================] - 42s 133ms/step - loss: 1.3559 - accuracy: 0.5418 - val_loss: 1.2557 - val_accuracy: 0.5848\n",
      "Epoch 3/10\n",
      "313/313 [==============================] - 33s 105ms/step - loss: 1.2158 - accuracy: 0.5952 - val_loss: 1.1842 - val_accuracy: 0.6145\n",
      "Epoch 4/10\n",
      "313/313 [==============================] - 34s 108ms/step - loss: 1.1133 - accuracy: 0.6398 - val_loss: 1.1654 - val_accuracy: 0.6282\n",
      "Epoch 5/10\n",
      "313/313 [==============================] - 34s 107ms/step - loss: 1.0400 - accuracy: 0.6682 - val_loss: 1.1031 - val_accuracy: 0.6492\n",
      "Epoch 6/10\n",
      "313/313 [==============================] - 32s 103ms/step - loss: 0.9774 - accuracy: 0.6916 - val_loss: 1.0624 - val_accuracy: 0.6665\n",
      "Epoch 7/10\n",
      "313/313 [==============================] - 32s 104ms/step - loss: 0.9235 - accuracy: 0.7169 - val_loss: 1.0466 - val_accuracy: 0.6782\n",
      "Epoch 8/10\n",
      "313/313 [==============================] - 33s 105ms/step - loss: 0.8696 - accuracy: 0.7366 - val_loss: 1.0225 - val_accuracy: 0.6900\n",
      "Epoch 9/10\n",
      "313/313 [==============================] - 33s 106ms/step - loss: 0.8248 - accuracy: 0.7558 - val_loss: 1.0281 - val_accuracy: 0.6919\n",
      "Epoch 10/10\n",
      "313/313 [==============================] - 32s 104ms/step - loss: 0.7760 - accuracy: 0.7754 - val_loss: 1.0296 - val_accuracy: 0.6944\n",
      "313/313 [==============================] - 3s 10ms/step - loss: 1.0326 - accuracy: 0.6921\n",
      "Accuracy :  0.6920999884605408\n"
     ]
    }
   ],
   "source": [
    "model = tf.keras.Sequential([\n",
    "                              tf.keras.layers.Conv2D(64, kernel_size=5, strides=(2, 2), activation=tf.nn.relu),\n",
    "                              tf.keras.layers.MaxPool2D(pool_size=(2, 2)),\n",
    "                              tf.keras.layers.Conv2D(128, kernel_size=3, strides=(1, 1), activation=tf.nn.relu),\n",
    "                              tf.keras.layers.Flatten(),\n",
    "                              tf.keras.layers.Dense(256, activation=tf.nn.relu, kernel_regularizer=regularizers.l1_l2(l1=1e-5, l2=1e-4)),\n",
    "                              tf.keras.layers.Dense(num_classes, name='logits', kernel_regularizer=regularizers.l1_l2(l1=1e-5, l2=1e-4)),\n",
    " ])\n",
    "\n",
    "model.compile(optimizer=tf.optimizers.Adam(learning_rate=1e-3),\n",
    "               loss=tf.keras.losses.SparseCategoricalCrossentropy(from_logits=True),\n",
    "               metrics=['accuracy'])\n",
    " \n",
    "model.fit(train_images, train_labels, epochs=10, validation_split=0.2, batch_size=128)\n",
    "test_loss, test_acc = model.evaluate(test_images, test_labels)\n",
    "\n",
    "print('Accuracy : ', test_acc)"
   ]
  },
  {
   "cell_type": "markdown",
   "metadata": {
    "id": "9NznkE7Xzh73"
   },
   "source": [
    "### 3.4) Seleccionamos una imagen del conjunto de test"
   ]
  },
  {
   "cell_type": "code",
   "execution_count": 5,
   "metadata": {
    "colab": {
     "base_uri": "https://localhost:8080/",
     "height": 298
    },
    "id": "0v6nCu-QznB6",
    "outputId": "3c8253f8-0677-43fe-cae2-ba19997e49e3"
   },
   "outputs": [
    {
     "data": {
      "text/plain": [
       "Text(0.5, 1.0, 'Label: [[3]]')"
      ]
     },
     "execution_count": 5,
     "metadata": {},
     "output_type": "execute_result"
    },
    {
     "data": {
      "image/png": "[encoded data removed]",
      "text/plain": [
       "<Figure size 432x288 with 1 Axes>"
      ]
     },
     "metadata": {
      "needs_background": "light"
     },
     "output_type": "display_data"
    }
   ],
   "source": [
    "x = test_images[0:1,...]\n",
    "y = test_labels[0:1,...]\n",
    "x.shape\n",
    "plt.imshow(x[0,...])\n",
    "plt.title('Label: '+str(y))"
   ]
  },
  {
   "cell_type": "markdown",
   "metadata": {
    "id": "WvSVBi4yztPP"
   },
   "source": [
    "###  3.5) Ataque PGD $\\ell_{\\inf}$ con $100$ iteraciones y $\\epsilon=0.05$. (No dirigido)"
   ]
  },
  {
   "cell_type": "code",
   "execution_count": 42,
   "metadata": {
    "id": "678j5nNaz3JK"
   },
   "outputs": [],
   "source": [
    "ep = 0.05\n",
    "alpha = 1e-2\n",
    "iter = 100\n",
    "noise = True\n",
    "\n",
    "x = tf.convert_to_tensor(x)\n",
    "y = tf.convert_to_tensor(y)\n",
    "\n",
    "x = tf.cast(x, dtype=tf.float32)\n",
    "y = tf.cast(y, dtype=tf.float32)\n",
    "\n",
    "if noise:\n",
    "  noise = tf.random.uniform(shape=tf.shape(x), maxval=ep, minval=-ep, dtype=tf.float32)\n",
    "  x_adv = tf.add(x, noise)\n",
    "else:\n",
    "  x_adv = x\n",
    "\n",
    "for i in range(iter):\n",
    "  with tf.GradientTape() as g:\n",
    "      g.watch(x_adv)\n",
    "      y_pred = model(x_adv)\n",
    "      loss = tf.keras.losses.sparse_categorical_crossentropy(y_true=y, y_pred=y_pred, from_logits=True)\n",
    "    \n",
    "  grad = g.gradient(loss, x_adv)\n",
    "  pert = tf.sign(grad)\n",
    "  pert *= alpha\n",
    "  #x_adv = x_adv + ep*pert\n",
    "  x_adv = tf.clip_by_value(x_adv + pert, x-ep, x+ep) # Only the values below x-ep or above x+ep are changed"
   ]
  },
  {
   "cell_type": "markdown",
   "metadata": {
    "id": "UOPa4u6vz9Hh"
   },
   "source": [
    "### 3.6) Resultados"
   ]
  },
  {
   "cell_type": "code",
   "execution_count": 43,
   "metadata": {
    "colab": {
     "base_uri": "https://localhost:8080/",
     "height": 376
    },
    "id": "Fb04hu9jz_iS",
    "outputId": "0259f3a8-306d-4286-8356-148a4d0f392a"
   },
   "outputs": [
    {
     "name": "stderr",
     "output_type": "stream",
     "text": [
      "Clipping input data to the valid range for imshow with RGB data ([0..1] for floats or [0..255] for integers).\n",
      "Clipping input data to the valid range for imshow with RGB data ([0..1] for floats or [0..255] for integers).\n",
      "Clipping input data to the valid range for imshow with RGB data ([0..1] for floats or [0..255] for integers).\n"
     ]
    },
    {
     "data": {
      "text/plain": [
       "Text(0.5, 1.0, 'Pert')"
      ]
     },
     "execution_count": 43,
     "metadata": {},
     "output_type": "execute_result"
    },
    {
     "data": {
      "image/png": "[encoded data removed]",
      "text/plain": [
       "<Figure size 1440x1440 with 4 Axes>"
      ]
     },
     "metadata": {
      "needs_background": "light"
     },
     "output_type": "display_data"
    }
   ],
   "source": [
    "fig, axs = plt.subplots(1,4,figsize=(20,20))\n",
    "\n",
    "pred_x = tf.argmax(model(x),-1).numpy()\n",
    "axs[0].imshow(x[0,...].numpy())\n",
    "axs[0].set_title('Default - Pred: '+str(pred_x))\n",
    "\n",
    "pred_x_adv = tf.argmax(model(x_adv),-1).numpy()\n",
    "axs[1].imshow(x_adv[0,...].numpy())\n",
    "axs[1].set_title('Attacked - Pred: '+str(pred_x_adv))\n",
    "\n",
    "grad_scaled = grad[0,...].numpy() / grad[0,...].numpy().max()\n",
    "axs[2].imshow(grad_scaled)\n",
    "axs[2].set_title('Grad')\n",
    "\n",
    "axs[3].imshow(pert[0,...].numpy()/alpha)\n",
    "axs[3].set_title('Pert')"
   ]
  },
  {
   "cell_type": "markdown",
   "metadata": {
    "id": "LpAw2Lj17bgU"
   },
   "source": [
    "### 3.7) \"Bonus\" Mismo ataque PGD pero dirigido"
   ]
  },
  {
   "cell_type": "code",
   "execution_count": 44,
   "metadata": {
    "id": "4RvBvHyv7obM"
   },
   "outputs": [],
   "source": [
    "ep = 0.05\n",
    "alpha = 1e-2\n",
    "iter = 100\n",
    "noise = True\n",
    "class_dirig = 9\n",
    "\n",
    "x = tf.convert_to_tensor(x)\n",
    "y = tf.convert_to_tensor(y)\n",
    "\n",
    "x = tf.cast(x, dtype=tf.float32)\n",
    "y = tf.cast(y, dtype=tf.float32)\n",
    "\n",
    "if noise:\n",
    "  noise = tf.random.uniform(shape=tf.shape(x), maxval=ep, minval=-ep, dtype=tf.float32)\n",
    "  x_adv = tf.add(x, noise)\n",
    "else:\n",
    "  x_adv = x\n",
    "\n",
    "for i in range(iter):\n",
    "  with tf.GradientTape() as g:\n",
    "      g.watch(x_adv)\n",
    "      y_pred = model(x_adv)\n",
    "      loss = tf.keras.losses.sparse_categorical_crossentropy(y_true=class_dirig, y_pred=y_pred, from_logits=True)\n",
    "    \n",
    "  grad = g.gradient(loss, x_adv)\n",
    "  pert = tf.sign(grad)\n",
    "  pert *= alpha\n",
    "  #x_adv = x_adv + ep*pert\n",
    "  x_adv = tf.clip_by_value(x_adv - pert, x-ep, x+ep) # Only the values below x-ep or above x+ep are changed"
   ]
  },
  {
   "cell_type": "code",
   "execution_count": 45,
   "metadata": {
    "colab": {
     "base_uri": "https://localhost:8080/",
     "height": 376
    },
    "id": "3MfyyX2z7oec",
    "outputId": "e23a1986-1260-4ed1-ec66-5c3c2b23f5c2"
   },
   "outputs": [
    {
     "name": "stderr",
     "output_type": "stream",
     "text": [
      "Clipping input data to the valid range for imshow with RGB data ([0..1] for floats or [0..255] for integers).\n",
      "Clipping input data to the valid range for imshow with RGB data ([0..1] for floats or [0..255] for integers).\n",
      "Clipping input data to the valid range for imshow with RGB data ([0..1] for floats or [0..255] for integers).\n"
     ]
    },
    {
     "data": {
      "text/plain": [
       "Text(0.5, 1.0, 'Pert')"
      ]
     },
     "execution_count": 45,
     "metadata": {},
     "output_type": "execute_result"
    },
    {
     "data": {
      "image/png": "[encoded data removed]",
      "text/plain": [
       "<Figure size 1440x1440 with 4 Axes>"
      ]
     },
     "metadata": {
      "needs_background": "light"
     },
     "output_type": "display_data"
    }
   ],
   "source": [
    "fig, axs = plt.subplots(1,4,figsize=(20,20))\n",
    "\n",
    "pred_x = tf.argmax(model(x),-1).numpy()\n",
    "axs[0].imshow(x[0,...].numpy())\n",
    "axs[0].set_title('Default - Pred: '+str(pred_x))\n",
    "\n",
    "pred_x_adv = tf.argmax(model(x_adv),-1).numpy()\n",
    "axs[1].imshow(x_adv[0,...].numpy())\n",
    "axs[1].set_title('Attacked - Pred: '+str(pred_x_adv))\n",
    "\n",
    "grad_scaled = grad[0,...].numpy() / grad[0,...].numpy().max()\n",
    "axs[2].imshow(grad_scaled)\n",
    "axs[2].set_title('Grad')\n",
    "\n",
    "axs[3].imshow(pert[0,...].numpy()/alpha)\n",
    "axs[3].set_title('Pert')"
   ]
  },
  {
   "cell_type": "markdown",
   "metadata": {
    "id": "rm4ltYXtwLX0"
   },
   "source": [
    "**E4:** Código (para nota)\n",
    "\n",
    "* Implementar en TensorFLow un ejemplo de ataque PGD $\\ell_1$ y comparar con el anterior.\n",
    "\n",
    "\n"
   ]
  },
  {
   "cell_type": "code",
   "execution_count": null,
   "metadata": {
    "id": "dLYt05cOkUZT"
   },
   "outputs": [],
   "source": [
    "# Completar. En el ataque anterior, la restricción sobre el conjunto de perturbaciones\n",
    "# es que la norma infinito sea menor que un cierto valor epsilon. Existen otros\n",
    "# ataques en los que esta norma no es la norma infinito. Repite el proceso de\n",
    "# entender qué hay que cambiar en el código para hacer uso de la norma 1 y \n",
    "# compara/explica las diferencias con el anterior."
   ]
  },
  {
   "cell_type": "markdown",
   "metadata": {
    "id": "m5H3zaAwDh8a"
   },
   "source": [
    "### 4.1) Ataque PGD $\\ell_1$ con $100$ iteraciones y $\\epsilon=0.05$. (No dirigido)"
   ]
  },
  {
   "cell_type": "code",
   "execution_count": 46,
   "metadata": {
    "id": "ffzaPKUZDhc6"
   },
   "outputs": [],
   "source": [
    "ep = 0.05\n",
    "alpha = 1e-2\n",
    "iter = 100\n",
    "noise = False\n",
    "\n",
    "x = tf.convert_to_tensor(x)\n",
    "y = tf.convert_to_tensor(y)\n",
    "\n",
    "x = tf.cast(x, dtype=tf.float32)\n",
    "y = tf.cast(y, dtype=tf.float32)\n",
    "\n",
    "if noise:\n",
    "  noise = tf.random.uniform(shape=tf.shape(x), maxval=ep, minval=-ep, dtype=tf.float32)\n",
    "  x_adv = tf.add(x, noise)\n",
    "else:\n",
    "  x_adv = x\n",
    "\n",
    "for i in range(iter):\n",
    "  with tf.GradientTape() as g:\n",
    "      g.watch(x_adv)\n",
    "      y_pred = model(x_adv)\n",
    "      loss = tf.keras.losses.sparse_categorical_crossentropy(y_true=y, y_pred=y_pred, from_logits=True)\n",
    "    \n",
    "  grad = g.gradient(loss, x_adv)\n",
    "  abs = tf.math.abs(grad)\n",
    "  max_grad = tf.reduce_max(abs, [1, 2, 3], keepdims=True)\n",
    "  \n",
    "  equal_abs = tf.math.equal(abs, max_grad) # Returns the truth value of (x == y) element-wise.\n",
    "  equal_abs = tf.cast(equal_abs, dtype=tf.float32)\n",
    "  \n",
    "  added_abs = tf.math.reduce_sum(equal_abs, [1, 2, 3], keepdims=True)\n",
    "    \n",
    "  pert = tf.sign(grad)\n",
    "  #pert *= alpha\n",
    "  x_adv += pert * equal_abs / added_abs\n",
    "  x_adv = tf.clip_by_value(x_adv, x-ep, x+ep) # Only the values below x-ep or above x+ep are changed\n"
   ]
  },
  {
   "cell_type": "markdown",
   "metadata": {
    "id": "WUx4vOgIFpMD"
   },
   "source": [
    "### 4.2) Resultados"
   ]
  },
  {
   "cell_type": "code",
   "execution_count": 47,
   "metadata": {
    "colab": {
     "base_uri": "https://localhost:8080/",
     "height": 359
    },
    "id": "TVELVxAlFo1M",
    "outputId": "e0038667-7206-453f-8ac2-020c8fd4efd5"
   },
   "outputs": [
    {
     "name": "stderr",
     "output_type": "stream",
     "text": [
      "Clipping input data to the valid range for imshow with RGB data ([0..1] for floats or [0..255] for integers).\n",
      "Clipping input data to the valid range for imshow with RGB data ([0..1] for floats or [0..255] for integers).\n"
     ]
    },
    {
     "data": {
      "text/plain": [
       "Text(0.5, 1.0, 'Pert')"
      ]
     },
     "execution_count": 47,
     "metadata": {},
     "output_type": "execute_result"
    },
    {
     "data": {
      "image/png": "[encoded data removed]",
      "text/plain": [
       "<Figure size 1440x1440 with 4 Axes>"
      ]
     },
     "metadata": {
      "needs_background": "light"
     },
     "output_type": "display_data"
    }
   ],
   "source": [
    "fig, axs = plt.subplots(1,4,figsize=(20,20))\n",
    "\n",
    "pred_x = tf.argmax(model(x),-1).numpy()\n",
    "axs[0].imshow(x[0,...].numpy())\n",
    "axs[0].set_title('Default - Pred: '+str(pred_x))\n",
    "\n",
    "pred_x_adv = tf.argmax(model(x_adv),-1).numpy()\n",
    "axs[1].imshow(x_adv[0,...].numpy())\n",
    "axs[1].set_title('Attacked - Pred: '+str(pred_x_adv))\n",
    "\n",
    "grad_scaled = grad[0,...].numpy() / grad[0,...].numpy().max()\n",
    "axs[2].imshow(grad_scaled)\n",
    "axs[2].set_title('Grad')\n",
    "\n",
    "axs[3].imshow(pert[0,...].numpy()/alpha)\n",
    "axs[3].set_title('Pert')"
   ]
  },
  {
   "cell_type": "markdown",
   "metadata": {
    "id": "WrsQqYOJLY4h"
   },
   "source": [
    "### 4.3) Respuesta"
   ]
  },
  {
   "cell_type": "markdown",
   "metadata": {
    "id": "P7Rx6zhTFvDi"
   },
   "source": [
    "#### Respuesta\n",
    "\n",
    "Se puede ver que el resultado no es bueno (el modelo sigue encontrando la buena clase). Como se puede leer en este paper : [ATTACKING THE MADRY DEFENSE MODEL WITH L1-BASED ADVERSARIAL EXAMPLES](https://openreview.net/pdf?id=Sy8WeUJPf), con un epsilon más grande la red debería equivocarse (pero la imagen resultaría ser más \"dañada\")."
   ]
  },
  {
   "cell_type": "markdown",
   "metadata": {
    "id": "cK19kOFWLXX9"
   },
   "source": [
    "### 4.4) Subiendo el epsilon"
   ]
  },
  {
   "cell_type": "code",
   "execution_count": 49,
   "metadata": {
    "id": "_lPVxsmDLWgk"
   },
   "outputs": [],
   "source": [
    "ep = 0.4\n",
    "alpha = 1e-2\n",
    "iter = 100\n",
    "noise = True\n",
    "\n",
    "x = tf.convert_to_tensor(x)\n",
    "y = tf.convert_to_tensor(y)\n",
    "\n",
    "x = tf.cast(x, dtype=tf.float32)\n",
    "y = tf.cast(y, dtype=tf.float32)\n",
    "\n",
    "if noise:\n",
    "  noise = tf.random.uniform(shape=tf.shape(x), maxval=ep, minval=-ep, dtype=tf.float32)\n",
    "  x_adv = tf.add(x, noise)\n",
    "else:\n",
    "  x_adv = x\n",
    "\n",
    "for i in range(iter):\n",
    "  with tf.GradientTape() as g:\n",
    "      g.watch(x_adv)\n",
    "      y_pred = model(x_adv)\n",
    "      loss = tf.keras.losses.sparse_categorical_crossentropy(y_true=y, y_pred=y_pred, from_logits=True)\n",
    "    \n",
    "  grad = g.gradient(loss, x_adv)\n",
    "  abs = tf.math.abs(grad)\n",
    "  max_grad = tf.reduce_max(abs, [1, 2, 3], keepdims=True)\n",
    "  \n",
    "  equal_abs = tf.math.equal(abs, max_grad) # Returns the truth value of (x == y) element-wise.\n",
    "  equal_abs = tf.cast(equal_abs, dtype=tf.float32)\n",
    "  \n",
    "  added_abs = tf.math.reduce_sum(equal_abs, [1, 2, 3], keepdims=True)\n",
    "    \n",
    "  pert = tf.sign(grad)\n",
    "  #pert *= alpha\n",
    "  x_adv += pert * equal_abs / added_abs\n",
    "  x_adv = tf.clip_by_value(x_adv, x-ep, x+ep) # Only the values below x-ep or above x+ep are changed\n"
   ]
  },
  {
   "cell_type": "code",
   "execution_count": 50,
   "metadata": {
    "colab": {
     "base_uri": "https://localhost:8080/",
     "height": 376
    },
    "id": "2Cw8sLsNLk0F",
    "outputId": "15bc7263-2d76-4202-8dd2-657464876195"
   },
   "outputs": [
    {
     "name": "stderr",
     "output_type": "stream",
     "text": [
      "Clipping input data to the valid range for imshow with RGB data ([0..1] for floats or [0..255] for integers).\n",
      "Clipping input data to the valid range for imshow with RGB data ([0..1] for floats or [0..255] for integers).\n",
      "Clipping input data to the valid range for imshow with RGB data ([0..1] for floats or [0..255] for integers).\n"
     ]
    },
    {
     "data": {
      "text/plain": [
       "Text(0.5, 1.0, 'Pert')"
      ]
     },
     "execution_count": 50,
     "metadata": {},
     "output_type": "execute_result"
    },
    {
     "data": {
      "image/png": "[encoded data removed]",
      "text/plain": [
       "<Figure size 1440x1440 with 4 Axes>"
      ]
     },
     "metadata": {
      "needs_background": "light"
     },
     "output_type": "display_data"
    }
   ],
   "source": [
    "fig, axs = plt.subplots(1,4,figsize=(20,20))\n",
    "\n",
    "pred_x = tf.argmax(model(x),-1).numpy()\n",
    "axs[0].imshow(x[0,...].numpy())\n",
    "axs[0].set_title('Default - Pred: '+str(pred_x))\n",
    "\n",
    "pred_x_adv = tf.argmax(model(x_adv),-1).numpy()\n",
    "axs[1].imshow(x_adv[0,...].numpy())\n",
    "axs[1].set_title('Attacked - Pred: '+str(pred_x_adv))\n",
    "\n",
    "grad_scaled = grad[0,...].numpy() / grad[0,...].numpy().max()\n",
    "axs[2].imshow(grad_scaled)\n",
    "axs[2].set_title('Grad')\n",
    "\n",
    "axs[3].imshow(pert[0,...].numpy()/alpha)\n",
    "axs[3].set_title('Pert')"
   ]
  },
  {
   "cell_type": "markdown",
   "metadata": {
    "id": "UETC0b2-zrLo"
   },
   "source": []
  }
 ],
 "metadata": {
  "colab": {
   "collapsed_sections": [],
   "name": "ROSARIO_TREMOULET_LUIS_PrácticaPGD_2022.ipynb",
   "provenance": []
  },
  "kernelspec": {
   "display_name": "Python 3 (ipykernel)",
   "language": "python",
   "name": "python3"
  },
  "language_info": {
   "codemirror_mode": {
    "name": "ipython",
    "version": 3
   },
   "file_extension": ".py",
   "mimetype": "text/x-python",
   "name": "python",
   "nbconvert_exporter": "python",
   "pygments_lexer": "ipython3",
   "version": "3.9.2"
  }
 },
 "nbformat": 4,
 "nbformat_minor": 1
}
